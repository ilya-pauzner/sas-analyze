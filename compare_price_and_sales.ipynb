{
 "cells": [
  {
   "cell_type": "code",
   "execution_count": 1,
   "metadata": {
    "collapsed": true
   },
   "outputs": [],
   "source": [
    "import pandas\n",
    "import matplotlib.pyplot\n",
    "\n",
    "import plotly.plotly as py\n",
    "import plotly.tools as tls\n",
    "import plotly.graph_objs as go\n",
    "from datetime import datetime\n",
    "from copy import deepcopy\n",
    "import json"
   ]
  },
  {
   "cell_type": "code",
   "execution_count": 2,
   "metadata": {},
   "outputs": [],
   "source": [
    "def sum_of_item(group, item):\n",
    "    return sum([q for (date, q) in group[item]])\n",
    "\n",
    "def top_items_by_sales(k, group_name, group_sales = None):\n",
    "    if group_sales is None:\n",
    "        group_sales = json.load(open(group_name + '.json'))\n",
    "    \n",
    "    group_sales_total = [[sum_of_item(group_sales, item), item] for item in group_sales]\n",
    "    group_sales_total.sort(reverse=True)\n",
    "    group_sales_total = group_sales_total[:min(k, len(group_sales))]\n",
    "    return [item for (sum_, item) in group_sales_total]  "
   ]
  },
  {
   "cell_type": "code",
   "execution_count": 3,
   "metadata": {},
   "outputs": [
    {
     "data": {
      "text/plain": [
       "['3186418', '3203662', '3319498', '3186437', '3243285']"
      ]
     },
     "execution_count": 3,
     "metadata": {},
     "output_type": "execute_result"
    }
   ],
   "source": [
    "top_items_by_sales(5, 'Яйцо')"
   ]
  },
  {
   "cell_type": "code",
   "execution_count": 4,
   "metadata": {},
   "outputs": [],
   "source": [
    "def sales_share(item, other_items, group_name, group_sales = None):\n",
    "    if group_sales is None:\n",
    "        group_sales = json.load(open(group_name + '.json'))\n",
    "    share = []\n",
    "    for i in range(len(group_sales[item])):\n",
    "        (date, a) = group_sales[item][i]\n",
    "        b = 0.01\n",
    "        for other_item in other_items:\n",
    "            (date, a_) = group_sales[other_item][i]\n",
    "            b += a_\n",
    "        share.append((date, a / b))\n",
    "    return share"
   ]
  },
  {
   "cell_type": "code",
   "execution_count": 5,
   "metadata": {},
   "outputs": [],
   "source": [
    "best_eggs = top_items_by_sales(5, 'Яйцо')"
   ]
  },
  {
   "cell_type": "code",
   "execution_count": 6,
   "metadata": {},
   "outputs": [],
   "source": [
    "def plot_shares(items, group_name, group_sales = None, graph_name=None):\n",
    "    if group_sales is None:\n",
    "        group_sales = json.load(open(group_name + '.json'))\n",
    "    if graph_name is None:\n",
    "        graph_name = group_name\n",
    "    start_date = datetime(2015, 1, 3)\n",
    "    end_date = datetime(2018, 1, 3)\n",
    "    rng = pandas.date_range(start = start_date, end=end_date, freq='D')\n",
    "    \n",
    "    for item in items:\n",
    "        share = sales_share(item, items, group_name, group_sales)\n",
    "        ts = pandas.Series([q for (date, q) in share], index=rng)\n",
    "        ts.plot(label=item)\n",
    "    \n",
    "    fig = matplotlib.pyplot.gcf()\n",
    "    plotly_fig = tls.mpl_to_plotly( fig)\n",
    "    plotly_fig['layout']['width'] = 1500\n",
    "    plotly_fig['layout']['height'] = 1000\n",
    "    py.plot(plotly_fig, filename=graph_name)"
   ]
  },
  {
   "cell_type": "code",
   "execution_count": 7,
   "metadata": {},
   "outputs": [],
   "source": [
    "import numpy as np\n",
    "\n",
    "def plot_week_shares(items, group_name, group_sales = None, graph_name=None):\n",
    "    if group_sales is None:\n",
    "        group_sales = json.load(open(group_name + '.json'))\n",
    "    if graph_name is None:\n",
    "        graph_name = group_name\n",
    "    start_date = datetime(2015, 1, 3)\n",
    "    end_date = datetime(2018, 1, 3)\n",
    "    rng = pandas.date_range(start = start_date, end=end_date, freq='W')\n",
    "    \n",
    "    for item in items:\n",
    "        share = sales_share(item, items, group_name, group_sales)\n",
    "        share2 = [q for (date, q) in share]\n",
    "        share3 = []\n",
    "        for i in range(0, len(share2), 7):\n",
    "            share3.append(np.average(share2[i: min(i + 7, len(share2))]))\n",
    "        ts = pandas.Series(share3, index=rng)\n",
    "        ts.plot(label=item)\n",
    "    \n",
    "    fig = matplotlib.pyplot.gcf()\n",
    "    plotly_fig = tls.mpl_to_plotly( fig)\n",
    "    plotly_fig['layout']['width'] = 1500\n",
    "    plotly_fig['layout']['height'] = 1000\n",
    "    py.plot(plotly_fig, filename=graph_name)\n",
    "    "
   ]
  },
  {
   "cell_type": "code",
   "execution_count": 10,
   "metadata": {},
   "outputs": [],
   "source": [
    "def plot2(name):\n",
    "    plot_shares(top_items_by_sales(5, name), name, graph_name=name + '_по_дням')\n",
    "    plot_week_shares(top_items_by_sales(5, name), name, graph_name=name + '_по_неделям')"
   ]
  },
  {
   "cell_type": "code",
   "execution_count": 21,
   "metadata": {},
   "outputs": [],
   "source": [
    "plot2('Уход за телом')"
   ]
  },
  {
   "cell_type": "code",
   "execution_count": null,
   "metadata": {},
   "outputs": [],
   "source": []
  }
 ],
 "metadata": {
  "kernelspec": {
   "display_name": "Python 2",
   "language": "python",
   "name": "python2"
  },
  "language_info": {
   "codemirror_mode": {
    "name": "ipython",
    "version": 2
   },
   "file_extension": ".py",
   "mimetype": "text/x-python",
   "name": "python",
   "nbconvert_exporter": "python",
   "pygments_lexer": "ipython2",
   "version": "2.7.6"
  }
 },
 "nbformat": 4,
 "nbformat_minor": 0
}
